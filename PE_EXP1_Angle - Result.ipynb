{
 "cells": [
  {
   "cell_type": "markdown",
   "id": "4938d355-ef4a-4ff6-9b7c-e9b60def3a64",
   "metadata": {},
   "source": [
    "# Import a dataset"
   ]
  },
  {
   "cell_type": "code",
   "execution_count": 13,
   "id": "5c396d19-14bc-4079-9b25-e41b3c488908",
   "metadata": {},
   "outputs": [
    {
     "name": "stdout",
     "output_type": "stream",
     "text": [
      "/home/huuthanhvy.nguyen001/kenichiLLMP\n"
     ]
    },
    {
     "data": {
      "text/html": [
       "<div>\n",
       "<style scoped>\n",
       "    .dataframe tbody tr th:only-of-type {\n",
       "        vertical-align: middle;\n",
       "    }\n",
       "\n",
       "    .dataframe tbody tr th {\n",
       "        vertical-align: top;\n",
       "    }\n",
       "\n",
       "    .dataframe thead th {\n",
       "        text-align: right;\n",
       "    }\n",
       "</style>\n",
       "<table border=\"1\" class=\"dataframe\">\n",
       "  <thead>\n",
       "    <tr style=\"text-align: right;\">\n",
       "      <th></th>\n",
       "      <th>query</th>\n",
       "      <th>raw_answer</th>\n",
       "      <th>parsed_answer</th>\n",
       "      <th>model</th>\n",
       "      <th>ground_truth</th>\n",
       "      <th>mean</th>\n",
       "      <th>mse</th>\n",
       "      <th>mlae</th>\n",
       "      <th>time</th>\n",
       "      <th>forced_repetitions</th>\n",
       "    </tr>\n",
       "  </thead>\n",
       "  <tbody>\n",
       "    <tr>\n",
       "      <th>0</th>\n",
       "      <td>q1</td>\n",
       "      <td>44</td>\n",
       "      <td>44.0</td>\n",
       "      <td>gpt4o</td>\n",
       "      <td>10</td>\n",
       "      <td>44.0</td>\n",
       "      <td>1156.0</td>\n",
       "      <td>11.731372</td>\n",
       "      <td>29162.190437</td>\n",
       "      <td>4</td>\n",
       "    </tr>\n",
       "    <tr>\n",
       "      <th>1</th>\n",
       "      <td>q1</td>\n",
       "      <td>user\\n\\n\\nLook at the image. It shows two line...</td>\n",
       "      <td>60.0</td>\n",
       "      <td>LLaMA</td>\n",
       "      <td>10</td>\n",
       "      <td>60.0</td>\n",
       "      <td>2500.0</td>\n",
       "      <td>12.287748</td>\n",
       "      <td>21650.283575</td>\n",
       "      <td>0</td>\n",
       "    </tr>\n",
       "    <tr>\n",
       "      <th>2</th>\n",
       "      <td>q1</td>\n",
       "      <td>user\\n\\n\\nLook at the image. It shows two line...</td>\n",
       "      <td>45.0</td>\n",
       "      <td>CustomLLaMA</td>\n",
       "      <td>10</td>\n",
       "      <td>45.0</td>\n",
       "      <td>1225.0</td>\n",
       "      <td>11.773191</td>\n",
       "      <td>6415.693760</td>\n",
       "      <td>0</td>\n",
       "    </tr>\n",
       "    <tr>\n",
       "      <th>3</th>\n",
       "      <td>q1</td>\n",
       "      <td>135 \\n</td>\n",
       "      <td>135.0</td>\n",
       "      <td>GeminiProVision</td>\n",
       "      <td>10</td>\n",
       "      <td>135.0</td>\n",
       "      <td>15625.0</td>\n",
       "      <td>13.609655</td>\n",
       "      <td>5870.520830</td>\n",
       "      <td>0</td>\n",
       "    </tr>\n",
       "    <tr>\n",
       "      <th>4</th>\n",
       "      <td>q1</td>\n",
       "      <td>90</td>\n",
       "      <td>90.0</td>\n",
       "      <td>Gemini1_5Flash</td>\n",
       "      <td>10</td>\n",
       "      <td>90.0</td>\n",
       "      <td>6400.0</td>\n",
       "      <td>12.965807</td>\n",
       "      <td>5321.798563</td>\n",
       "      <td>0</td>\n",
       "    </tr>\n",
       "  </tbody>\n",
       "</table>\n",
       "</div>"
      ],
      "text/plain": [
       "  query                                         raw_answer  parsed_answer  \\\n",
       "0    q1                                                 44           44.0   \n",
       "1    q1  user\\n\\n\\nLook at the image. It shows two line...           60.0   \n",
       "2    q1  user\\n\\n\\nLook at the image. It shows two line...           45.0   \n",
       "3    q1                                             135 \\n          135.0   \n",
       "4    q1                                                 90           90.0   \n",
       "\n",
       "             model  ground_truth   mean      mse       mlae          time  \\\n",
       "0            gpt4o            10   44.0   1156.0  11.731372  29162.190437   \n",
       "1            LLaMA            10   60.0   2500.0  12.287748  21650.283575   \n",
       "2      CustomLLaMA            10   45.0   1225.0  11.773191   6415.693760   \n",
       "3  GeminiProVision            10  135.0  15625.0  13.609655   5870.520830   \n",
       "4   Gemini1_5Flash            10   90.0   6400.0  12.965807   5321.798563   \n",
       "\n",
       "   forced_repetitions  \n",
       "0                   4  \n",
       "1                   0  \n",
       "2                   0  \n",
       "3                   0  \n",
       "4                   0  "
      ]
     },
     "execution_count": 13,
     "metadata": {},
     "output_type": "execute_result"
    }
   ],
   "source": [
    "import pandas as pd \n",
    "import os\n",
    "\n",
    "print (os.getcwd())\n",
    "\n",
    "\n",
    "df = pd.read_csv('EXP/PE_EXP1_Angle.csv')\n",
    "\n",
    "df.head()\n"
   ]
  },
  {
   "cell_type": "markdown",
   "id": "9aeb8077-27ae-4c38-8270-f5809b0462a6",
   "metadata": {},
   "source": [
    "# Plot MLAE comparison across models and queries"
   ]
  },
  {
   "cell_type": "code",
   "execution_count": 28,
   "id": "626446c8-c9c5-4e2c-9357-5d79b9c3b5dd",
   "metadata": {},
   "outputs": [
    {
     "data": {
      "image/png": "[encoded data removed]",
      "text/plain": [
       "<Figure size 1000x600 with 1 Axes>"
      ]
     },
     "metadata": {},
     "output_type": "display_data"
    }
   ],
   "source": [
    "import matplotlib.pyplot as plt\n",
    "import seaborn as sns\n",
    "\n",
    "# Group the data by 'query' and calculate the average MLAE\n",
    "query_avg_mlae = df.groupby('query')['mlae'].mean().reset_index()\n",
    "\n",
    "# Plot the data using matplotlib\n",
    "plt.figure(figsize=(10, 6))\n",
    "plt.scatter(query_avg_mlae['query'], query_avg_mlae['mlae'], color='blue')\n",
    "\n",
    "# Add title and labels\n",
    "plt.title('Average MLAE for Each Query', fontsize=16)\n",
    "plt.xlabel('Query', fontsize=12)\n",
    "plt.ylabel('Average MLAE', fontsize=12)\n",
    "\n",
    "# Show the plot\n",
    "plt.show()"
   ]
  },
  {
   "cell_type": "markdown",
   "id": "e510d449-dbcd-4284-a006-2193f5d3eaeb",
   "metadata": {},
   "source": [
    "# Caculate averages of run for each model"
   ]
  },
  {
   "cell_type": "code",
   "execution_count": null,
   "id": "dfc00261-5390-4779-a877-92038eef9c56",
   "metadata": {},
   "outputs": [],
   "source": [
    "##Later use\n",
    "\n",
    "import pandas as pd\n",
    "import numpy as np\n",
    "import scipy.stats as stats\n",
    "\n",
    "# Sample Data (your dataset)\n",
    "data = {\n",
    "    'Query': ['q1', 'q1', 'q1', 'q1', 'q2', 'q2', 'q2', 'q2', 'q3', 'q3', 'q3', 'q3', 'q4', 'q4', 'q4', 'q4', 'q5', 'q5', 'q5', 'q5'],\n",
    "    'Model': ['gpt4o', 'gpt4vision', 'GeminiProVision', 'Gemini1_5Flash', 'gpt4o', 'gpt4vision', 'GeminiProVision', 'Gemini1_5Flash', 'gpt4o', 'gpt4vision', 'GeminiProVision', 'Gemini1_5Flash', 'gpt4o', 'gpt4vision', 'GeminiProVision', 'Gemini1_5Flash', 'gpt4o', 'gpt4vision', 'GeminiProVision', 'Gemini1_5Flash'],\n",
    "    'MLAE': [11.344365, 12.001452, 12.574623, 12.574623, 11.344365, 11.598111, 12.001452, 10.891879, 11.344365, 12.001452, 12.001452, 10.891879, 11.344365, 11.344365, 11.344365, 10.891879, 11.344365, 11.598111, 12.316317, 10.891879]\n",
    "}\n",
    "\n",
    "# Step 1: Convert to DataFrame\n",
    "df = pd.DataFrame(data)\n",
    "\n",
    "# Step 2: Group by 'Model' to calculate the mean and standard deviation of MLAE for each model\n",
    "model_stats = df.groupby('Model')['MLAE'].agg(['mean', 'std', 'count']).reset_index()\n",
    "\n",
    "# Step 3: Choose a confidence level (e.g., 95%)\n",
    "confidence_level = 0.95\n",
    "z_score = stats.norm.ppf((1 + confidence_level) / 2)  # z-score for 95% confidence\n",
    "\n",
    "# Step 4: Calculate the margin of error and confidence intervals\n",
    "model_stats['margin_of_error'] = z_score * (model_stats['std'] / np.sqrt(model_stats['count']))\n",
    "model_stats['ci_lower'] = model_stats['mean'] - model_stats['margin_of_error']\n",
    "model_stats['ci_upper'] = model_stats['mean'] + model_stats['margin_of_error']\n",
    "\n",
    "# Step 5: Display the results\n",
    "print(model_stats[['Model', 'mean', 'std', 'count', 'ci_lower', 'ci_upper']])\n"
   ]
  }
 ],
 "metadata": {
  "kernelspec": {
   "display_name": "Python 3 (ipykernel)",
   "language": "python",
   "name": "python3"
  },
  "language_info": {
   "codemirror_mode": {
    "name": "ipython",
    "version": 3
   },
   "file_extension": ".py",
   "mimetype": "text/x-python",
   "name": "python",
   "nbconvert_exporter": "python",
   "pygments_lexer": "ipython3",
   "version": "3.11.9"
  }
 },
 "nbformat": 4,
 "nbformat_minor": 5
}
