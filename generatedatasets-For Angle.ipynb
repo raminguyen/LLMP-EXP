{
 "cells": [
  {
   "cell_type": "code",
   "execution_count": null,
   "id": "0a08dbd0-72c3-44df-b903-469b0d965368",
   "metadata": {},
   "outputs": [],
   "source": [
    "!pip3 install datasets\n",
    "#!python -m pip install torch torchvision torchaudio --extra-index-url https://download.pytorch.org/whl/cu113"
   ]
  },
  {
   "cell_type": "code",
   "execution_count": 1,
   "id": "2d284f00-8ea8-4e76-8bdd-e19c1abd7290",
   "metadata": {},
   "outputs": [],
   "source": [
    "from datasets import load_dataset\n",
    "from PIL import Image\n",
    "from io import BytesIO\n",
    "import requests\n",
    "import os\n",
    "import json\n",
    "import uuid\n",
    "import numpy as np\n",
    "import skimage\n",
    "import math\n"
   ]
  },
  {
   "cell_type": "code",
   "execution_count": 17,
   "id": "10b6f704-ed70-4c39-a9d0-9e22dcbef7ae",
   "metadata": {},
   "outputs": [],
   "source": [
    "import os\n",
    "import uuid\n",
    "import numpy as np\n",
    "from PIL import Image\n",
    "import json\n",
    "import torch\n",
    "from torchvision import transforms\n",
    "\n",
    "def generate_save_dataset(output_folder, subset_name, number_of_data):\n",
    "    \n",
    "    subset_folder = os.path.join(output_folder, subset_name)\n",
    "    image_subfolder = os.path.join(output_folder, 'images')\n",
    "\n",
    "    # Create directories if they do not exist\n",
    "    if not os.path.exists(image_subfolder):\n",
    "        os.makedirs(image_subfolder)\n",
    "\n",
    "    if not os.path.exists(subset_folder):\n",
    "        os.makedirs(subset_folder)\n",
    "\n",
    "    # Initialize list to hold all JSON data and angles\n",
    "    json_data_list = []\n",
    "\n",
    "    # Define data augmentation transformations (random rotation and scaling)\n",
    "    data_transform = transforms.Compose([\n",
    "        transforms.Resize((448, 448)),  # Resize to 448x448\n",
    "        transforms.RandomRotation(degrees=180),  # Rotate randomly up to 180 degrees\n",
    "        transforms.RandomResizedCrop(448, scale=(0.8, 1.0)),  # Random scaling\n",
    "        transforms.ToTensor(),  # Convert the image to tensor\n",
    "    ])\n",
    "\n",
    "    for i in range(number_of_data):\n",
    "        # Generate the image and the answer for angle prediction\n",
    "        image, answer = L.GPImage.figure1('angle')  # Generate angle image and answer\n",
    "        \n",
    "        # Convert the image array to a valid format\n",
    "        int_array = image.astype(int)\n",
    "        uint8_array = (int_array * 255).astype(np.uint8)\n",
    "        img = Image.fromarray(uint8_array).convert(\"RGB\")  # Convert to RGB\n",
    "\n",
    "        # Apply data augmentation (rotation and scaling)\n",
    "        augmented_image = data_transform(img)\n",
    "\n",
    "        # Convert back to PIL Image (if needed for saving)\n",
    "        augmented_image_pil = transforms.ToPILImage()(augmented_image)\n",
    "\n",
    "        unique_id = str(uuid.uuid4())  # Generate a unique ID for the image\n",
    "\n",
    "        # Define image path\n",
    "        image_path = os.path.join(image_subfolder, f\"{unique_id}.jpg\")\n",
    "\n",
    "        # Save the augmented image\n",
    "        augmented_image_pil.save(image_path)\n",
    "\n",
    "        # Prepare the JSON data\n",
    "        json_data = {\n",
    "            \"id\": unique_id,\n",
    "            \"image\": f\"{unique_id}.jpg\",\n",
    "            \"angle\": f\"The line drawing in the image forms an acute angle. The exact angle in this picture is {answer} degrees.\"  # Store the angle directly\n",
    "        }\n",
    "\n",
    "        # Print progress every 300 images\n",
    "        if i % 300 == 0:\n",
    "            print(f\"Generated {i}/{number_of_data} images for angle experiment...\")\n",
    "\n",
    "        # Append to the list\n",
    "        json_data_list.append(json_data)\n",
    "\n",
    "    # Save the generated data to a JSON file\n",
    "    json_output_path = os.path.join(output_folder, subset_name, 'dataset.json')\n",
    "    with open(json_output_path, 'w') as json_file:\n",
    "        json.dump(json_data_list, json_file, indent=4)\n",
    "\n"
   ]
  },
  {
   "cell_type": "code",
   "execution_count": null,
   "id": "0e5306ba-e19d-4e0a-b34b-123b00a270ad",
   "metadata": {},
   "outputs": [],
   "source": []
  },
  {
   "cell_type": "code",
   "execution_count": 18,
   "id": "ecea37d5-d522-465d-b214-adb340fa6128",
   "metadata": {},
   "outputs": [],
   "source": [
    "import sys\n",
    "import os\n",
    "\n",
    "# Append the path to the LLMP module\n",
    "sys.path.append('/home/huuthanhvy.nguyen001/hpcstor6/LLMP/LLMP/')\n",
    "\n",
    "# Now, you should be able to import LLMP as L\n",
    "import LLMP as L\n"
   ]
  },
  {
   "cell_type": "code",
   "execution_count": 19,
   "id": "43e81545-9e42-46b8-9d09-b3723a1a7a42",
   "metadata": {},
   "outputs": [
    {
     "name": "stdout",
     "output_type": "stream",
     "text": [
      "Generated 0/50 images for angle experiment...\n"
     ]
    }
   ],
   "source": [
    "output_folder = 'finetuningDataset50angle'\n",
    "\n",
    "number_of_data = 50 #20 tasks * 3000 number of data = 60,000\n",
    "\n",
    "generate_save_dataset(output_folder, 'train', number_of_data)"
   ]
  },
  {
   "cell_type": "code",
   "execution_count": 20,
   "id": "8fa9feae-2bc2-4309-ad40-4498623842e4",
   "metadata": {},
   "outputs": [
    {
     "name": "stdout",
     "output_type": "stream",
     "text": [
      "Generated 0/5 images for angle experiment...\n"
     ]
    }
   ],
   "source": [
    "generate_save_dataset(output_folder, 'validation', 5)"
   ]
  },
  {
   "cell_type": "code",
   "execution_count": null,
   "id": "a10ca0ec-b436-41e0-a363-32eafa9b4cb9",
   "metadata": {},
   "outputs": [],
   "source": [
    "generate_save_dataset(output_folder, 'test', 100)"
   ]
  },
  {
   "cell_type": "code",
   "execution_count": null,
   "id": "735eb660-5415-48a0-b10a-e8425007f540",
   "metadata": {},
   "outputs": [],
   "source": [
    "!pip install git+https://github.com/huggingface/transformers\n",
    "!pip install git+https://github.com/huggingface/peft.git"
   ]
  },
  {
   "cell_type": "code",
   "execution_count": null,
   "id": "3fd617cf-8414-41bb-abc2-24aadec5d332",
   "metadata": {},
   "outputs": [],
   "source": [
    "!pip install --upgrade peft\n"
   ]
  },
  {
   "cell_type": "code",
   "execution_count": null,
   "id": "9f2746e0-8d42-4e4b-83db-cf714fe99989",
   "metadata": {
    "scrolled": true
   },
   "outputs": [],
   "source": [
    "!pip install --upgrade transformers"
   ]
  },
  {
   "cell_type": "code",
   "execution_count": null,
   "id": "ad27a113-8656-4069-b2f2-82217e1d9fcf",
   "metadata": {},
   "outputs": [],
   "source": [
    "pip install --upgrade trl  "
   ]
  },
  {
   "cell_type": "code",
   "execution_count": null,
   "id": "686f77ca-5848-466e-ad8b-5a0352b51b70",
   "metadata": {},
   "outputs": [],
   "source": [
    "!pip install deepspeed"
   ]
  },
  {
   "cell_type": "code",
   "execution_count": 54,
   "id": "e32c19e0-1c2c-4bd3-9a78-aa8389d8a5e6",
   "metadata": {},
   "outputs": [],
   "source": [
    "!chmod +x /home/huuthanhvy.nguyen001/LLMP/EXP/train_mem.py\n"
   ]
  },
  {
   "cell_type": "code",
   "execution_count": 60,
   "id": "689d8728-c387-4e23-83fa-8cd0a5ba5d80",
   "metadata": {},
   "outputs": [
    {
     "name": "stdout",
     "output_type": "stream",
     "text": [
      "wandb/run-20240926_184851-e09xl7m9/files/output.log:  File \"/home/huuthanhvy.nguyen001/anaconda3/envs/pytorch/lib/python3.11/site-packages/llava/model/language_model/llava_llama.py\", line 139, in <module>\n",
      "wandb/run-20240926_184851-e09xl7m9/files/output.log:  File \"/home/huuthanhvy.nguyen001/anaconda3/envs/pytorch/lib/python3.11/site-packages/llava/model/language_model/llava_llama.py\", line 139, in <module>\n",
      "Binary file wandb/run-20240926_184851-e09xl7m9/run-e09xl7m9.wandb matches\n",
      "Binary file LLaVA/.git/index matches\n",
      "LLaVA/llava.egg-info/SOURCES.txt:llava/model/language_model/llava_llama.py\n",
      "Binary file LLaVA/llava/model/language_model/__pycache__/llava_llama.cpython-311.pyc matches\n",
      "LLaVA/docs/Customize_Component.md:It is quite simple to swap out LLaMA to any other LLMs.  You can refer to our implementation of [`llava_llama.py`](https://raw.githubusercontent.com/haotian-liu/LLaVA/main/llava/model/language_model/llava_llama.py) for an example of how to replace the LLM.\n"
     ]
    }
   ],
   "source": [
    "!grep -r llava_llama.py"
   ]
  },
  {
   "cell_type": "code",
   "execution_count": 62,
   "id": "e86eef46-e4e6-4908-a435-8ad47392f805",
   "metadata": {},
   "outputs": [
    {
     "name": "stdout",
     "output_type": "stream",
     "text": [
      "Collecting transformers\n",
      "  Downloading transformers-4.45.1-py3-none-any.whl.metadata (44 kB)\n",
      "Requirement already satisfied: filelock in /home/huuthanhvy.nguyen001/anaconda3/envs/pytorch/lib/python3.11/site-packages (from transformers) (3.13.1)\n",
      "Requirement already satisfied: huggingface-hub<1.0,>=0.23.2 in /home/huuthanhvy.nguyen001/anaconda3/envs/pytorch/lib/python3.11/site-packages (from transformers) (0.25.1)\n",
      "Requirement already satisfied: numpy>=1.17 in /home/huuthanhvy.nguyen001/anaconda3/envs/pytorch/lib/python3.11/site-packages (from transformers) (1.26.4)\n",
      "Requirement already satisfied: packaging>=20.0 in /home/huuthanhvy.nguyen001/anaconda3/envs/pytorch/lib/python3.11/site-packages (from transformers) (24.1)\n",
      "Requirement already satisfied: pyyaml>=5.1 in /home/huuthanhvy.nguyen001/anaconda3/envs/pytorch/lib/python3.11/site-packages (from transformers) (6.0.1)\n",
      "Requirement already satisfied: regex!=2019.12.17 in /home/huuthanhvy.nguyen001/anaconda3/envs/pytorch/lib/python3.11/site-packages (from transformers) (2024.9.11)\n",
      "Requirement already satisfied: requests in /home/huuthanhvy.nguyen001/anaconda3/envs/pytorch/lib/python3.11/site-packages (from transformers) (2.32.3)\n",
      "Requirement already satisfied: safetensors>=0.4.1 in /home/huuthanhvy.nguyen001/anaconda3/envs/pytorch/lib/python3.11/site-packages (from transformers) (0.4.5)\n",
      "Requirement already satisfied: tokenizers<0.21,>=0.20 in /home/huuthanhvy.nguyen001/anaconda3/envs/pytorch/lib/python3.11/site-packages (from transformers) (0.20.0)\n",
      "Requirement already satisfied: tqdm>=4.27 in /home/huuthanhvy.nguyen001/anaconda3/envs/pytorch/lib/python3.11/site-packages (from transformers) (4.66.5)\n",
      "Requirement already satisfied: fsspec>=2023.5.0 in /home/huuthanhvy.nguyen001/anaconda3/envs/pytorch/lib/python3.11/site-packages (from huggingface-hub<1.0,>=0.23.2->transformers) (2024.6.1)\n",
      "Requirement already satisfied: typing-extensions>=3.7.4.3 in /home/huuthanhvy.nguyen001/anaconda3/envs/pytorch/lib/python3.11/site-packages (from huggingface-hub<1.0,>=0.23.2->transformers) (4.11.0)\n",
      "Requirement already satisfied: charset-normalizer<4,>=2 in /home/huuthanhvy.nguyen001/anaconda3/envs/pytorch/lib/python3.11/site-packages (from requests->transformers) (3.3.2)\n",
      "Requirement already satisfied: idna<4,>=2.5 in /home/huuthanhvy.nguyen001/anaconda3/envs/pytorch/lib/python3.11/site-packages (from requests->transformers) (3.7)\n",
      "Requirement already satisfied: urllib3<3,>=1.21.1 in /home/huuthanhvy.nguyen001/anaconda3/envs/pytorch/lib/python3.11/site-packages (from requests->transformers) (2.2.2)\n",
      "Requirement already satisfied: certifi>=2017.4.17 in /home/huuthanhvy.nguyen001/anaconda3/envs/pytorch/lib/python3.11/site-packages (from requests->transformers) (2024.8.30)\n",
      "Downloading transformers-4.45.1-py3-none-any.whl (9.9 MB)\n",
      "\u001b[2K   \u001b[90m━━━━━━━━━━━━━━━━━━━━━━━━━━━━━━━━━━━━━━━━\u001b[0m \u001b[32m9.9/9.9 MB\u001b[0m \u001b[31m63.0 MB/s\u001b[0m eta \u001b[36m0:00:00\u001b[0m\n",
      "\u001b[?25hInstalling collected packages: transformers\n",
      "\u001b[31mERROR: pip's dependency resolver does not currently take into account all the packages that are installed. This behaviour is the source of the following dependency conflicts.\n",
      "llava 1.1.1 requires accelerate==0.21.0, but you have accelerate 0.26.0 which is incompatible.\n",
      "llava 1.1.1 requires bitsandbytes==0.41.0, but you have bitsandbytes 0.41.3 which is incompatible.\n",
      "llava 1.1.1 requires sentencepiece==0.1.99, but you have sentencepiece 0.2.0 which is incompatible.\n",
      "llava 1.1.1 requires transformers==4.31.0, but you have transformers 4.45.1 which is incompatible.\u001b[0m\u001b[31m\n",
      "\u001b[0mSuccessfully installed transformers-4.45.1\n"
     ]
    }
   ],
   "source": [
    "!pip install transformers\n"
   ]
  }
 ],
 "metadata": {
  "kernelspec": {
   "display_name": "Python 3 (ipykernel)",
   "language": "python",
   "name": "python3"
  },
  "language_info": {
   "codemirror_mode": {
    "name": "ipython",
    "version": 3
   },
   "file_extension": ".py",
   "mimetype": "text/x-python",
   "name": "python",
   "nbconvert_exporter": "python",
   "pygments_lexer": "ipython3",
   "version": "3.11.9"
  }
 },
 "nbformat": 4,
 "nbformat_minor": 5
}
